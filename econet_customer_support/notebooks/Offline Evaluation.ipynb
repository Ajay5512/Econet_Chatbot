{
 "cells": [
  {
   "cell_type": "code",
   "execution_count": 86,
   "id": "46b506a2-5ff4-40b2-8961-4b14fc15f473",
   "metadata": {},
   "outputs": [],
   "source": [
    "import csv\n",
    "import json\n",
    "import pandas as pd\n",
    "from tqdm.auto import tqdm\n",
    "from sentence_transformers import SentenceTransformer\n",
    "from elasticsearch import Elasticsearch\n",
    "import os\n",
    "from groq import Groq"
   ]
  },
  {
   "cell_type": "code",
   "execution_count": 87,
   "id": "2eb57c7f-0c0a-4892-83f3-d722a2b5c4b0",
   "metadata": {},
   "outputs": [],
   "source": [
    "# Load the JSON file\n",
    "with open('data/documents-with-ids.json', 'r') as f:\n",
    "    documents = json.load(f)\n",
    "\n",
    "df_ground_truth = pd.read_csv('data/ground-truth-data.csv')\n",
    "ground_truth = df_ground_truth.to_dict(orient='records')"
   ]
  },
  {
   "cell_type": "code",
   "execution_count": 88,
   "id": "9898c6ec-cb17-4cc8-8e0b-754e757ffd39",
   "metadata": {},
   "outputs": [
    {
     "name": "stderr",
     "output_type": "stream",
     "text": [
      "/workspaces/Econet_Chatbot/venv/lib/python3.12/site-packages/transformers/tokenization_utils_base.py:1601: FutureWarning: `clean_up_tokenization_spaces` was not set. It will be set to `True` by default. This behavior will be depracted in transformers v4.45, and will be then set to `False` by default. For more details check this issue: https://github.com/huggingface/transformers/issues/31884\n",
      "  warnings.warn(\n"
     ]
    }
   ],
   "source": [
    "model_name = 'multi-qa-MiniLM-L6-cos-v1'\n",
    "model = SentenceTransformer(model_name)"
   ]
  },
  {
   "cell_type": "code",
   "execution_count": 89,
   "id": "832b3ebb-67f8-4912-821a-a4e0d85c92d2",
   "metadata": {},
   "outputs": [
    {
     "data": {
      "text/plain": [
       "ObjectApiResponse({'acknowledged': True, 'shards_acknowledged': True, 'index': 'customer-support'})"
      ]
     },
     "execution_count": 89,
     "metadata": {},
     "output_type": "execute_result"
    }
   ],
   "source": [
    "es_client = Elasticsearch('http://localhost:9200')\n",
    "\n",
    "index_settings = {\n",
    "    \"settings\": {\n",
    "        \"number_of_shards\": 1,\n",
    "        \"number_of_replicas\": 0\n",
    "    },\n",
    "    \"mappings\": {\n",
    "        \"properties\": {\n",
    "            \"question\": {\"type\": \"text\"},\n",
    "            \"answer\": {\"type\": \"text\"},\n",
    "            \"id\": {\"type\": \"text\"},\n",
    "            \"question_answer_vector\": {\n",
    "                \"type\": \"dense_vector\",\n",
    "                \"dims\": 384,\n",
    "                \"index\": True,\n",
    "                \"similarity\": \"cosine\"\n",
    "            },\n",
    "        }\n",
    "    }\n",
    "}\n",
    "\n",
    "index_name = \"customer-support\"\n",
    "es_client.indices.delete(index=index_name, ignore_unavailable=True)\n",
    "es_client.indices.create(index=index_name, body=index_settings)"
   ]
  },
  {
   "cell_type": "code",
   "execution_count": 90,
   "id": "e8c813de-f839-4f5b-b7ec-02124436019e",
   "metadata": {},
   "outputs": [
    {
     "name": "stderr",
     "output_type": "stream",
     "text": [
      "100%|██████████████████████████████████████████████████████████████████████████████████████████████████| 194/194 [00:09<00:00, 19.51it/s]\n"
     ]
    }
   ],
   "source": [
    "for doc in tqdm(documents):\n",
    "    question = doc['Question']\n",
    "    answer = doc['Answer']\n",
    "    \n",
    "    es_doc = {\n",
    "        \"question\": question,\n",
    "        \"answer\": answer,\n",
    "        \"question_answer_vector\": model.encode(question + ' ' + answer)\n",
    "    }\n",
    "    \n",
    "    es_client.index(index=index_name, document=es_doc)"
   ]
  },
  {
   "cell_type": "code",
   "execution_count": 91,
   "id": "76ac94fd-9981-4d5e-9b4b-065f457b3813",
   "metadata": {},
   "outputs": [],
   "source": [
    "def elastic_search_knn(field, vector):\n",
    "    knn = {\n",
    "        \"field\": field,\n",
    "        \"query_vector\": vector,\n",
    "        \"k\": 5,\n",
    "        \"num_candidates\": 10000\n",
    "    }\n",
    "    search_query = {\n",
    "        \"knn\": knn,\n",
    "        \"_source\": [\"question\", \"answer\"]\n",
    "    }\n",
    "    es_results = es_client.search(\n",
    "        index=index_name,\n",
    "        body=search_query\n",
    "    )\n",
    "    \n",
    "    result_docs = []\n",
    "    \n",
    "    for hit in es_results['hits']['hits']:\n",
    "        result_docs.append(hit['_source'])\n",
    "    return result_docs"
   ]
  },
  {
   "cell_type": "code",
   "execution_count": 98,
   "id": "ffe7fa9f-d16f-4a59-a96c-a179e9ddcf64",
   "metadata": {},
   "outputs": [],
   "source": [
    "def question_answer_vector_knn(q):\n",
    "    if isinstance(q, dict):\n",
    "        question = q.get('Question') or q.get('question')\n",
    "    else:\n",
    "        question = q\n",
    "    if not question:\n",
    "        raise ValueError(\"Input must be a string or a dictionary with a 'Question' or 'question' key\")\n",
    "    v_q = model.encode(question)\n",
    "    return elastic_search_knn('question_answer_vector', v_q)\n",
    "\n",
    "os.environ[\"GROQ_API_KEY\"] = \"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\""
   ]
  },
  {
   "cell_type": "code",
   "execution_count": 99,
   "id": "eb417e81-19d6-461d-abde-3440c6937f94",
   "metadata": {},
   "outputs": [],
   "source": [
    "def build_prompt(query, search_results):\n",
    "    prompt_template = \"\"\"\n",
    "You are a highly knowledgeable and helpful customer support assistant for a\n",
    "telecommunications company. Your job is to assist customers by answering\n",
    "their questions with accurate and clear information based on the CONTEXT provided.\n",
    "Only use the facts from the CONTEXT when answering the customer's QUESTION.\n",
    "Be concise, professional, and empathetic in your responses. \n",
    "If the CONTEXT does not fully answer the QUESTION, politely suggest that the \n",
    "customer reach out to a live support agent for further assistance.\n",
    "QUESTION: {question}\n",
    "CONTEXT: \n",
    "{context}\n",
    "\"\"\".strip()\n",
    "    context = \"\"\n",
    "    \n",
    "    for doc in search_results:\n",
    "        context = context + f\"question: {doc['question']}\\nanswer: {doc['answer']}\\n\\n\"\n",
    "    \n",
    "    prompt = prompt_template.format(question=query, context=context).strip()\n",
    "    return prompt"
   ]
  },
  {
   "cell_type": "code",
   "execution_count": 100,
   "id": "8dc13805-7fb9-4679-83f0-8222d5e24e28",
   "metadata": {},
   "outputs": [],
   "source": [
    "def build_prompt(query, search_results):\n",
    "    prompt_template = \"\"\"\n",
    "You are a highly knowledgeable, friendly, and empathetic  and helpful customer support assistant for a telecommunications company.\n",
    "Your role is to assist customers by answering their questions with accurate, clear, and concise information based on the CONTEXT provided. \n",
    "Please respond in a conversational tone that makes the customer feel heard and understood and Be concise, professional, and empathetic in your responses. \n",
    "Use only the facts from the CONTEXT when answering the customer's QUESTION.\n",
    "If the CONTEXT does not have the   context to  answer the QUESTION, gently suggest that the customer \n",
    "reach out to a live support agent for further assistance.\n",
    "\n",
    "QUESTION: {question}\n",
    "\n",
    "CONTEXT: \n",
    "{context}\n",
    "\"\"\".strip()\n",
    "    \n",
    "    context = \"\"\n",
    "    \n",
    "    for doc in search_results:\n",
    "        context += f\"question: {doc['question']}\\nanswer: {doc['answer']}\\n\\n\"\n",
    "    \n",
    "    prompt = prompt_template.format(question=query, context=context).strip()\n",
    "    return prompt\n"
   ]
  },
  {
   "cell_type": "code",
   "execution_count": 107,
   "id": "64fec2e4-2986-482e-ba41-256806c21044",
   "metadata": {},
   "outputs": [],
   "source": [
    "def llm(prompt, model='llama-3.2-90b-text-p'):\n",
    "    client = Groq()\n",
    "    response = client.chat.completions.create(\n",
    "        model=model,\n",
    "        messages=[{\"role\": \"user\", \"content\": prompt}]\n",
    "    )\n",
    "    \n",
    "    return response.choices[0].message.content\n",
    "\n",
    "def rag(query, model='llama-3.1-70b-versatile') -> str:\n",
    "    if isinstance(query, dict):\n",
    "        question = query.get('Question') or query.get('question')\n",
    "    else:\n",
    "        question = query\n",
    "    if not question:\n",
    "        raise ValueError(\"Input must be a string or a dictionary with a 'Question' or 'question' key\")\n",
    "    \n",
    "    search_results = question_answer_vector_knn(question)\n",
    "    prompt = build_prompt(question, search_results)\n",
    "    answer = llm(prompt, model=model)\n",
    "    return answer"
   ]
  },
  {
   "cell_type": "code",
   "execution_count": 108,
   "id": "103b0157-bff2-4459-9749-a3b546a016ae",
   "metadata": {},
   "outputs": [
    {
     "data": {
      "text/plain": [
       "{'Question': \"I am trying to borrow money from my airtime account, but I'm not allowed, Why is this?\",\n",
       " 'Answer': 'Please note, in order to borrow airtime, your line has to be active for 3 months after the day of purchase. you also need to recharge more often to be eligible for credit.',\n",
       " 'id': '53986b1a'}"
      ]
     },
     "execution_count": 108,
     "metadata": {},
     "output_type": "execute_result"
    }
   ],
   "source": [
    "ground_truth[20]"
   ]
  },
  {
   "cell_type": "code",
   "execution_count": 109,
   "id": "cd86c765-59ec-4e6e-b944-4cee935f2b8b",
   "metadata": {},
   "outputs": [
    {
     "data": {
      "text/plain": [
       "\"I understand your question, and I'd be happy to help. Based on the information available, I can confirm that the bundle minutes can be used to call an Econet mobile number that is roaming outside the country. However, I want to clarify that this only applies if the bundle is being used for calls from within Zimbabwe. If you have any other questions or need further clarification, please feel free to ask, and I'll do my best to assist you.\""
      ]
     },
     "execution_count": 109,
     "metadata": {},
     "output_type": "execute_result"
    }
   ],
   "source": [
    "# Example usage\n",
    "rag(ground_truth[88])"
   ]
  },
  {
   "cell_type": "markdown",
   "id": "5915df24-3366-494a-851c-341817071a9d",
   "metadata": {},
   "source": [
    "### Cosine similarity metric"
   ]
  },
  {
   "cell_type": "code",
   "execution_count": null,
   "id": "eea3bbca-92e1-4089-9658-71694a580105",
   "metadata": {},
   "outputs": [],
   "source": []
  },
  {
   "cell_type": "code",
   "execution_count": 65,
   "id": "083dbb6b-c4cb-4ced-98e4-2fd3579b86b3",
   "metadata": {},
   "outputs": [],
   "source": [
    "answer_orig = 'Can the bundle minutes be used outside the country for Econet mobile numbers'\n",
    "answer_llm = 'The bundles are only valid for local Econet-to-Econet calls. However, the bundle can be used if calling a number that is roaming outside the country.'"
   ]
  },
  {
   "cell_type": "code",
   "execution_count": 66,
   "id": "c94312f0-3f25-435f-8b4f-b2bffd37d88e",
   "metadata": {},
   "outputs": [
    {
     "data": {
      "text/plain": [
       "0.7694156"
      ]
     },
     "execution_count": 66,
     "metadata": {},
     "output_type": "execute_result"
    }
   ],
   "source": [
    "v_llm = model.encode(answer_llm)\n",
    "v_orig = model.encode(answer_orig)\n",
    "\n",
    "v_llm.dot(v_orig)"
   ]
  },
  {
   "cell_type": "code",
   "execution_count": null,
   "id": "d9d8c0b3-936d-4fb4-8a4f-c4c85a911a69",
   "metadata": {},
   "outputs": [],
   "source": []
  },
  {
   "cell_type": "code",
   "execution_count": null,
   "id": "088d4238-c876-4f21-82dd-0a71063465ba",
   "metadata": {},
   "outputs": [],
   "source": []
  },
  {
   "cell_type": "code",
   "execution_count": null,
   "id": "2587216c-ca1c-4e38-a2f4-8479ce32803b",
   "metadata": {},
   "outputs": [],
   "source": []
  },
  {
   "cell_type": "code",
   "execution_count": null,
   "id": "20bc6114-5a2c-4846-a698-5f8cacf0ac26",
   "metadata": {},
   "outputs": [],
   "source": []
  },
  {
   "cell_type": "code",
   "execution_count": null,
   "id": "fb0d393c-0008-4abf-91c2-a3a8805a92a1",
   "metadata": {},
   "outputs": [],
   "source": []
  },
  {
   "cell_type": "code",
   "execution_count": null,
   "id": "a38dee13-b04c-4160-8067-585bed5be643",
   "metadata": {},
   "outputs": [],
   "source": []
  },
  {
   "cell_type": "code",
   "execution_count": null,
   "id": "be607ea5-25bc-4cd4-80a6-48b0f3175fbe",
   "metadata": {},
   "outputs": [],
   "source": []
  },
  {
   "cell_type": "code",
   "execution_count": null,
   "id": "11fc36ae-3146-4e5f-8afe-2c6784084677",
   "metadata": {},
   "outputs": [],
   "source": []
  },
  {
   "cell_type": "code",
   "execution_count": null,
   "id": "b4376536-c4f6-4a24-bc98-5b11c9724a8d",
   "metadata": {},
   "outputs": [],
   "source": []
  },
  {
   "cell_type": "code",
   "execution_count": null,
   "id": "8d7fada0-6958-4f63-9871-3756d286e818",
   "metadata": {},
   "outputs": [],
   "source": []
  },
  {
   "cell_type": "code",
   "execution_count": null,
   "id": "57ecc331-2418-47d0-889c-2107b6b99c28",
   "metadata": {},
   "outputs": [],
   "source": []
  },
  {
   "cell_type": "code",
   "execution_count": null,
   "id": "a3e6576b-8bb4-4272-817c-7c9da9da0db8",
   "metadata": {},
   "outputs": [],
   "source": []
  },
  {
   "cell_type": "code",
   "execution_count": null,
   "id": "5953ee4e-1fe8-4c81-b60c-d1b4025e6758",
   "metadata": {},
   "outputs": [],
   "source": []
  },
  {
   "cell_type": "code",
   "execution_count": null,
   "id": "b2e30ada-21ee-4f76-80ee-d314d52730aa",
   "metadata": {},
   "outputs": [],
   "source": []
  },
  {
   "cell_type": "code",
   "execution_count": null,
   "id": "5b5c66a2-ad2e-4e1f-80d6-c420da28802b",
   "metadata": {},
   "outputs": [],
   "source": []
  },
  {
   "cell_type": "code",
   "execution_count": null,
   "id": "6f6132e5-762a-448b-8cd0-9a7465871226",
   "metadata": {},
   "outputs": [],
   "source": []
  },
  {
   "cell_type": "code",
   "execution_count": null,
   "id": "68068488-f96d-46f6-902c-dfbc0f75e1a5",
   "metadata": {},
   "outputs": [],
   "source": []
  },
  {
   "cell_type": "code",
   "execution_count": null,
   "id": "160d2bd5-016e-4d82-a4d4-f0d940995a37",
   "metadata": {},
   "outputs": [],
   "source": []
  },
  {
   "cell_type": "code",
   "execution_count": null,
   "id": "bba569bf-19b7-47b7-941a-48f739b25dff",
   "metadata": {},
   "outputs": [],
   "source": []
  },
  {
   "cell_type": "code",
   "execution_count": null,
   "id": "1a84e427-bb6f-4db1-9dcc-ded02960f095",
   "metadata": {},
   "outputs": [],
   "source": []
  },
  {
   "cell_type": "code",
   "execution_count": null,
   "id": "7e0f9b67-5096-4947-8188-32b4bca8fd43",
   "metadata": {},
   "outputs": [],
   "source": []
  },
  {
   "cell_type": "code",
   "execution_count": null,
   "id": "4a438976-6d17-433f-bb53-6339f2923271",
   "metadata": {},
   "outputs": [],
   "source": []
  },
  {
   "cell_type": "code",
   "execution_count": null,
   "id": "551f9dfe-3955-43e8-9c71-b43f51a7e41c",
   "metadata": {},
   "outputs": [],
   "source": []
  },
  {
   "cell_type": "code",
   "execution_count": null,
   "id": "76a9d7c1-7456-4f15-be5f-de894f2da945",
   "metadata": {},
   "outputs": [],
   "source": []
  },
  {
   "cell_type": "code",
   "execution_count": null,
   "id": "ce11c670-8369-4851-975a-543a31aad51a",
   "metadata": {},
   "outputs": [],
   "source": []
  },
  {
   "cell_type": "code",
   "execution_count": null,
   "id": "d68cef15-5e7f-464a-93fd-730725fbeaec",
   "metadata": {},
   "outputs": [],
   "source": []
  },
  {
   "cell_type": "code",
   "execution_count": null,
   "id": "3dc02d86-3e18-4dd5-811e-9b151d238a2e",
   "metadata": {},
   "outputs": [],
   "source": []
  },
  {
   "cell_type": "code",
   "execution_count": null,
   "id": "60a3a08f-2e45-4ecd-9353-d3a85bc3b689",
   "metadata": {},
   "outputs": [],
   "source": []
  },
  {
   "cell_type": "code",
   "execution_count": null,
   "id": "9e382b64-486a-4445-98f2-11e7f4b1c8c4",
   "metadata": {},
   "outputs": [],
   "source": []
  },
  {
   "cell_type": "code",
   "execution_count": null,
   "id": "01025931-b99f-485a-b90d-45ab7894f18a",
   "metadata": {},
   "outputs": [],
   "source": []
  },
  {
   "cell_type": "code",
   "execution_count": null,
   "id": "50acaa83-ec45-454d-a334-70a492adc0a6",
   "metadata": {},
   "outputs": [],
   "source": []
  },
  {
   "cell_type": "code",
   "execution_count": null,
   "id": "6ff1ab11-a7b0-4e53-94cd-5d5e0f3ebe95",
   "metadata": {},
   "outputs": [],
   "source": []
  },
  {
   "cell_type": "code",
   "execution_count": null,
   "id": "d4f24163-4795-449a-bbbb-45d6be0e18cb",
   "metadata": {},
   "outputs": [],
   "source": []
  },
  {
   "cell_type": "code",
   "execution_count": null,
   "id": "24286b1b-4b03-4011-add3-6b12f2dad089",
   "metadata": {},
   "outputs": [],
   "source": []
  },
  {
   "cell_type": "code",
   "execution_count": null,
   "id": "5bc5bf42-d54b-4070-9f45-62a89295c1dc",
   "metadata": {},
   "outputs": [],
   "source": []
  },
  {
   "cell_type": "code",
   "execution_count": null,
   "id": "9d74ffb7-849a-421e-873d-f84742191f8e",
   "metadata": {},
   "outputs": [],
   "source": []
  },
  {
   "cell_type": "code",
   "execution_count": null,
   "id": "1ba9ccb4-1350-4a69-b6c9-bb4545b31e1b",
   "metadata": {},
   "outputs": [],
   "source": []
  }
 ],
 "metadata": {
  "kernelspec": {
   "display_name": "Python 3 (ipykernel)",
   "language": "python",
   "name": "python3"
  },
  "language_info": {
   "codemirror_mode": {
    "name": "ipython",
    "version": 3
   },
   "file_extension": ".py",
   "mimetype": "text/x-python",
   "name": "python",
   "nbconvert_exporter": "python",
   "pygments_lexer": "ipython3",
   "version": "3.12.1"
  }
 },
 "nbformat": 4,
 "nbformat_minor": 5
}
