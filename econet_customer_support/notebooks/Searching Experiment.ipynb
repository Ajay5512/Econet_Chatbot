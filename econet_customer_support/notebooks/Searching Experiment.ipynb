{
 "cells": [
  {
   "cell_type": "code",
   "execution_count": 7,
   "id": "2cef3a4e-440e-4c7a-8d00-aac8bb9fad94",
   "metadata": {},
   "outputs": [],
   "source": [
    "import csv\n",
    "import json\n",
    "\n",
    "# Load the CSV file\n",
    "with open('data/Econet_data.csv', 'r') as f:\n",
    "    reader = csv.DictReader(f)\n",
    "    data = list(reader)\n",
    "\n",
    "# Convert the data to JSON format\n",
    "with open('data/Econet_data.json', 'w') as f:\n",
    "    json.dump(data, f, indent=4)"
   ]
  },
  {
   "cell_type": "code",
   "execution_count": 10,
   "id": "46a48679-a024-4a18-b182-f94966d0cc83",
   "metadata": {},
   "outputs": [],
   "source": [
    "import json\n",
    "from sentence_transformers import SentenceTransformer\n",
    "\n",
    "# Load the JSON file\n",
    "with open('data/Econet_data.json', 'r') as f:\n",
    "    docs_raw = json.load(f)\n",
    "\n",
    "# Create the necessary data structure\n",
    "documents = []\n",
    "for doc in docs_raw:\n",
    "    document = {\n",
    "        'question': doc['Question'],\n",
    "        'answer': doc['Answer'],\n",
    "        'question_vector': None,\n",
    "        'answer_vector': None\n",
    "    }\n",
    "    documents.append(document)"
   ]
  },
  {
   "cell_type": "code",
   "execution_count": 11,
   "id": "5b775548-fc3d-4f27-8929-d78626433db7",
   "metadata": {},
   "outputs": [
    {
     "data": {
      "text/plain": [
       "{'question': 'Hi, I just purchased my daily bundles and they have exhausted though I haven’t used them much.',\n",
       " 'answer': 'We would like to inform you that all our bundles are usage based and you can now track your data, airtime or SMS usage via My Web self-care. You just need to follow this link: https://selfcare.econet.co.zw/ and register.',\n",
       " 'question_vector': None,\n",
       " 'answer_vector': None}"
      ]
     },
     "execution_count": 11,
     "metadata": {},
     "output_type": "execute_result"
    }
   ],
   "source": [
    "documents[1]"
   ]
  },
  {
   "cell_type": "code",
   "execution_count": 13,
   "id": "9c320dc5-7220-4f3c-af88-4338b8498173",
   "metadata": {},
   "outputs": [
    {
     "name": "stderr",
     "output_type": "stream",
     "text": [
      "Processing documents: 100%|████████████████████████████████████████████████████████████████████████████| 194/194 [00:36<00:00,  5.26it/s]\n"
     ]
    }
   ],
   "source": [
    "from tqdm import tqdm\n",
    "from sentence_transformers import SentenceTransformer\n",
    "\n",
    "# Load the pre-trained sentence embedding model\n",
    "model = SentenceTransformer('all-mpnet-base-v2')\n",
    "\n",
    "# Create sentence embeddings for the question and answer with progress tracking\n",
    "for doc in tqdm(documents, desc=\"Processing documents\"):\n",
    "    doc['question_vector'] = model.encode(doc['question']).tolist()\n",
    "    doc['answer_vector'] = model.encode(doc['answer']).tolist()\n"
   ]
  },
  {
   "cell_type": "code",
   "execution_count": 14,
   "id": "e48b7924-06b8-4026-9d95-3b96ccef3834",
   "metadata": {},
   "outputs": [
    {
     "data": {
      "text/plain": [
       "ObjectApiResponse({'acknowledged': True, 'shards_acknowledged': True, 'index': 'customer_support'})"
      ]
     },
     "execution_count": 14,
     "metadata": {},
     "output_type": "execute_result"
    }
   ],
   "source": [
    "from elasticsearch import Elasticsearch\n",
    "\n",
    "# Set up the Elasticsearch connection\n",
    "es_client = Elasticsearch('http://localhost:9200')\n",
    "\n",
    "# Define the index settings\n",
    "index_settings = {\n",
    "    \"settings\": {\n",
    "        \"number_of_shards\": 1,\n",
    "        \"number_of_replicas\": 0\n",
    "    },\n",
    "    \"mappings\": {\n",
    "        \"properties\": {\n",
    "            \"question\": {\"type\": \"text\"},\n",
    "            \"answer\": {\"type\": \"text\"},\n",
    "            \"question_vector\": {\"type\": \"dense_vector\", \"dims\": 768, \"index\": True, \"similarity\": \"cosine\"},\n",
    "            \"answer_vector\": {\"type\": \"dense_vector\", \"dims\": 768, \"index\": True, \"similarity\": \"cosine\"}\n",
    "        }\n",
    "    }\n",
    "}\n",
    "\n",
    "# Create the index\n",
    "index_name = \"customer_support\"\n",
    "es_client.indices.delete(index=index_name, ignore_unavailable=True)\n",
    "es_client.indices.create(index=index_name, body=index_settings)"
   ]
  },
  {
   "cell_type": "code",
   "execution_count": 16,
   "id": "7c030bf1-6312-4e39-a118-306614397ed9",
   "metadata": {},
   "outputs": [
    {
     "name": "stderr",
     "output_type": "stream",
     "text": [
      "Indexing documents: 100%|██████████████████████████████████████████████████████████████████████████████| 194/194 [00:07<00:00, 25.79it/s]\n"
     ]
    }
   ],
   "source": [
    "from tqdm import tqdm\n",
    "from elasticsearch import Elasticsearch\n",
    "\n",
    "# Initialize the Elasticsearch client\n",
    "es_client = Elasticsearch('http://localhost:9200')\n",
    "\n",
    "# Index the documents in Elasticsearch with progress tracking\n",
    "for doc in tqdm(documents, desc=\"Indexing documents\"):\n",
    "    try:\n",
    "        es_client.index(index=index_name, document=doc)\n",
    "    except Exception as e:\n",
    "        print(f\"Error indexing document: {e}\")\n"
   ]
  },
  {
   "cell_type": "markdown",
   "id": "8d0ea773-47d7-4db1-8f7d-ccdb118f98b9",
   "metadata": {},
   "source": [
    "### vector search in Elasticsearch"
   ]
  },
  {
   "cell_type": "code",
   "execution_count": null,
   "id": "5363b67a-8647-4f99-9f17-765abf48e954",
   "metadata": {},
   "outputs": [],
   "source": []
  },
  {
   "cell_type": "code",
   "execution_count": 18,
   "id": "ce912945-ddf8-4839-b6a6-d35711b74782",
   "metadata": {
    "scrolled": true
   },
   "outputs": [
    {
     "name": "stdout",
     "output_type": "stream",
     "text": [
      "Question: What is the validity of the bundles?\n",
      "Answer: The bundles have a daily and weekly validity period.\n",
      "Score: 0.7348753\n",
      "\n",
      "Question: I have WhatsApp bundle but am failing to make an App call?\n",
      "Answer: Please note that you cannot make calls using the WhatsApp bundle. In order to make calls, you will need Data bundles.\n",
      "Score: 0.72886837\n",
      "\n",
      "Question: How do I check my USD bundle balance?\n",
      "Answer: Dial *143# and go to option 8\n",
      "Score: 0.7057455\n",
      "\n",
      "Question: How can I purchase the bundles?\n",
      "Answer: You can purchase USD airtime directly from all Econet shops and dealers and convert it to bundles via *143#\n",
      "Score: 0.7045275\n",
      "\n",
      "Question: What is the difference between the old bundles and the new bundles?\n",
      "Answer: The difference is that there are changes that have been made to allow for more and better benefits across all the bundles and more options have been added. The changes are tabulated below\n",
      "Score: 0.69786763\n",
      "\n"
     ]
    }
   ],
   "source": [
    "# Perform a vector search in Elasticsearch\n",
    "search_term = \"My bundle is not working?\"\n",
    "vector_search_term = model.encode(search_term)\n",
    "\n",
    "query = {\n",
    "    \"query\": {\n",
    "        \"knn\": {\n",
    "            \"question_vector\": {\n",
    "                \"vector\": vector_search_term,\n",
    "                \"k\": 5\n",
    "            }\n",
    "        }\n",
    "    }\n",
    "}\n",
    "\n",
    "results = es_client.search(index=index_name, body=query)\n",
    "for hit in results['hits']['hits']:\n",
    "    print(f\"Question: {hit['_source']['question']}\")\n",
    "    print(f\"Answer: {hit['_source']['answer']}\")\n",
    "    print()"
   ]
  },
  {
   "cell_type": "markdown",
   "id": "d361500b-9393-49cd-ad63-778630f7646f",
   "metadata": {},
   "source": [
    "**The highest score for vector Search is  0.7348753**"
   ]
  },
  {
   "cell_type": "markdown",
   "id": "f198b39d-b22b-45ed-ade8-8a7d3b71260f",
   "metadata": {},
   "source": [
    "### Perform Keyword search with Semantic Search (Hybrid/Advanced Search)"
   ]
  },
  {
   "cell_type": "code",
   "execution_count": 26,
   "id": "be29348a-d70b-4bc4-98ed-d4630f3ce93a",
   "metadata": {},
   "outputs": [
    {
     "name": "stderr",
     "output_type": "stream",
     "text": [
      "Creating embeddings: 100%|█████████████████████████████████████████████████████████████████████████████| 194/194 [00:11<00:00, 16.44it/s]\n"
     ]
    }
   ],
   "source": [
    "import json\n",
    "from tqdm.auto import tqdm\n",
    "from sentence_transformers import SentenceTransformer\n",
    "from elasticsearch import Elasticsearch\n",
    "\n",
    "# Load your JSON data\n",
    "with open('data/Econet_data.json', 'rt') as f_in:\n",
    "    documents = json.load(f_in)\n",
    "\n",
    "# Initialize the sentence transformer model\n",
    "model_name = 'multi-qa-MiniLM-L6-cos-v1'\n",
    "model = SentenceTransformer(model_name)\n",
    "\n",
    "# Create embeddings for each document\n",
    "for doc in tqdm(documents, desc=\"Creating embeddings\"):\n",
    "    question = doc['Question']\n",
    "    answer = doc['Answer']\n",
    "    qa = question + ' ' + answer\n",
    "\n",
    "    doc['question_vector'] = model.encode(question).tolist()\n",
    "    doc['answer_vector'] = model.encode(answer).tolist()\n",
    "    doc['question_answer_vector'] = model.encode(qa).tolist()"
   ]
  },
  {
   "cell_type": "code",
   "execution_count": 29,
   "id": "5e6addb4-7f39-4b24-ba44-99f78d713806",
   "metadata": {},
   "outputs": [
    {
     "name": "stderr",
     "output_type": "stream",
     "text": [
      "Indexing documents: 100%|██████████████████████████████████████████████████████████████████████████████| 194/194 [00:06<00:00, 30.12it/s]\n"
     ]
    }
   ],
   "source": [
    "# Initialize Elasticsearch client\n",
    "es_client = Elasticsearch('http://localhost:9200')\n",
    "\n",
    "# Define index settings and mappings\n",
    "index_settings = {\n",
    "    \"settings\": {\n",
    "        \"number_of_shards\": 1,\n",
    "        \"number_of_replicas\": 0\n",
    "    },\n",
    "    \"mappings\": {\n",
    "        \"properties\": {\n",
    "            \"question\": {\"type\": \"text\"},\n",
    "            \"answer\": {\"type\": \"text\"},\n",
    "            \"question_vector\": {\n",
    "                \"type\": \"dense_vector\",\n",
    "                \"dims\": 384,\n",
    "                \"index\": True,\n",
    "                \"similarity\": \"cosine\"\n",
    "            },\n",
    "            \"answer_vector\": {\n",
    "                \"type\": \"dense_vector\",\n",
    "                \"dims\": 384,\n",
    "                \"index\": True,\n",
    "                \"similarity\": \"cosine\"\n",
    "            },\n",
    "            \"question_answer_vector\": {\n",
    "                \"type\": \"dense_vector\",\n",
    "                \"dims\": 384,\n",
    "                \"index\": True,\n",
    "                \"similarity\": \"cosine\"\n",
    "            },\n",
    "        }\n",
    "    }\n",
    "}\n",
    "\n",
    "# Create the index\n",
    "index_name = \"customer-support\"\n",
    "es_client.indices.delete(index=index_name, ignore_unavailable=True)\n",
    "es_client.indices.create(index=index_name, body=index_settings)\n",
    "\n",
    "# Index the documents\n",
    "for doc in tqdm(documents, desc=\"Indexing documents\"):\n",
    "    es_client.index(index=index_name, document=doc)\n"
   ]
  },
  {
   "cell_type": "code",
   "execution_count": 30,
   "id": "ba07662a-d2b1-431b-978b-c4e0f54dd5a9",
   "metadata": {},
   "outputs": [
    {
     "name": "stdout",
     "output_type": "stream",
     "text": [
      "Question: What is the validity of the bundles?\n",
      "Answer: The bundles have a daily and weekly validity period.\n",
      "Score: 0.74401045\n",
      "\n",
      "Question: Can I carry over my bundle or ask for a bundle extension in case I didn’t finish my bundle allocation before expiry?\n",
      "Answer: No, you cannot carry over the bundle. You will have to use it within stipulated times.\n",
      "Score: 0.7293763\n",
      "\n",
      "Question: How do I buy or check my SMS bundles?\n",
      "Answer: No problem! You just dial *140#, select option 1 and choose the option which serves you.\n",
      "Score: 0.72461826\n",
      "\n",
      "Question: How do I check my USD bundle balance?\n",
      "Answer: Dial *143# and go to option 8\n",
      "Score: 0.72084755\n",
      "\n",
      "Question: What is the difference between the old bundles and the new bundles?\n",
      "Answer: The difference is that there are changes that have been made to allow for more and better benefits across all the bundles and more options have been added. The changes are tabulated below\n",
      "Score: 0.7169128\n",
      "\n"
     ]
    }
   ],
   "source": [
    "# Function to perform hybrid search\n",
    "def hybrid_search(query, size=5):\n",
    "    # Encode the query\n",
    "    query_vector = model.encode(query).tolist()\n",
    "\n",
    "    # KNN query\n",
    "    knn_query = {\n",
    "        \"field\": \"question_answer_vector\",\n",
    "        \"query_vector\": query_vector,\n",
    "        \"k\": size,\n",
    "        \"num_candidates\": 100\n",
    "    }\n",
    "\n",
    "    # Keyword query\n",
    "    keyword_query = {\n",
    "        \"multi_match\": {\n",
    "            \"query\": query,\n",
    "            \"fields\": [\"question^2\", \"answer\"],\n",
    "            \"type\": \"best_fields\",\n",
    "            \"tie_breaker\": 0.3,\n",
    "            \"minimum_should_match\": \"30%\"\n",
    "        }\n",
    "    }\n",
    "\n",
    "    # Combine queries\n",
    "    combined_query = {\n",
    "     \"bool\": {\n",
    "            \"must\": [keyword_query],\n",
    "            \"should\": [\n",
    "                {\n",
    "                    \"script_score\": {\n",
    "                        \"query\": {\"match_all\": {}},\n",
    "                        \"script\": {\n",
    "                            \"source\": \"cosineSimilarity(params.query_vector, 'question_answer_vector') + 1.0\",\n",
    "                            \"params\": {\"query_vector\": query_vector}\n",
    "                        }\n",
    "                    }\n",
    "                }\n",
    "            ]\n",
    "        }\n",
    "    }\n",
    "\n",
    "    # Perform the search\n",
    "    response = es_client.search(\n",
    "        index=index_name,\n",
    "        query=combined_query,\n",
    "        knn=knn_query,\n",
    "        size=size\n",
    "    )\n",
    "\n",
    "    return response\n",
    "\n",
    "# Example usage\n",
    "query = \"My bundle is not working?\"\n",
    "results = hybrid_search(query)\n",
    "\n",
    "# Print results\n",
    "for hit in results['hits']['hits']:\n",
    "    print(f\"Question: {hit['_source']['Question']}\")\n",
    "    print(f\"Answer: {hit['_source']['Answer']}\")\n",
    "    print(f\"Score: {hit['_score']}\")\n",
    "    print()\n",
    "\n",
    "\n"
   ]
  },
  {
   "cell_type": "markdown",
   "id": "93b00033-98ac-4f1c-ad63-d5ba65ba7b38",
   "metadata": {},
   "source": [
    "**The highest score for vector Search is 0.74401045 therefore Hybrid search has got a better accuracy**"
   ]
  },
  {
   "cell_type": "code",
   "execution_count": 36,
   "id": "1a614ad2-d990-40dc-9dda-18c25d7b476f",
   "metadata": {},
   "outputs": [
    {
     "name": "stderr",
     "output_type": "stream",
     "text": [
      "Evaluating search: 100%|███████████████████████████████████████████████████████████████████████████████| 840/840 [00:26<00:00, 31.63it/s]"
     ]
    },
    {
     "name": "stdout",
     "output_type": "stream",
     "text": [
      "Mean Precision: 0.0000\n",
      "Mean Recall: 0.0000\n",
      "Mean F1 Score: 0.0000\n",
      "Mean Reciprocal Rank: -1.0000\n",
      "Detailed evaluation results saved to 'evaluation_results.csv'\n"
     ]
    },
    {
     "name": "stderr",
     "output_type": "stream",
     "text": [
      "\n"
     ]
    }
   ],
   "source": []
  },
  {
   "cell_type": "code",
   "execution_count": null,
   "id": "5186d589-60a4-461a-9e03-769e691d7606",
   "metadata": {},
   "outputs": [],
   "source": []
  }
 ],
 "metadata": {
  "kernelspec": {
   "display_name": "Python 3 (ipykernel)",
   "language": "python",
   "name": "python3"
  },
  "language_info": {
   "codemirror_mode": {
    "name": "ipython",
    "version": 3
   },
   "file_extension": ".py",
   "mimetype": "text/x-python",
   "name": "python",
   "nbconvert_exporter": "python",
   "pygments_lexer": "ipython3",
   "version": "3.12.1"
  }
 },
 "nbformat": 4,
 "nbformat_minor": 5
}
